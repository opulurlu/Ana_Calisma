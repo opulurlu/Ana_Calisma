{
 "cells": [
  {
   "cell_type": "code",
   "execution_count": 8,
   "id": "d411961e",
   "metadata": {},
   "outputs": [
    {
     "ename": "IndentationError",
     "evalue": "unindent does not match any outer indentation level (<tokenize>, line 5)",
     "output_type": "error",
     "traceback": [
      "\u001b[1;36m  File \u001b[1;32m\"<tokenize>\"\u001b[1;36m, line \u001b[1;32m5\u001b[0m\n\u001b[1;33m    print('{} '.format(sonuc))\u001b[0m\n\u001b[1;37m    ^\u001b[0m\n\u001b[1;31mIndentationError\u001b[0m\u001b[1;31m:\u001b[0m unindent does not match any outer indentation level\n"
     ]
    }
   ],
   "source": [
    "def test_rootnode(a, b):\n",
    "        sonuc=1\n",
    "for kuvvet in range(1,b+1):\n",
    "\tsonuc = sonuc * a\n",
    "    print('{} '.format(sonuc)) "
   ]
  },
  {
   "cell_type": "code",
   "execution_count": 9,
   "id": "cea41b7b",
   "metadata": {},
   "outputs": [],
   "source": [
    "test_rootnode(2,3)"
   ]
  },
  {
   "cell_type": "code",
   "execution_count": null,
   "id": "5fcde1c6",
   "metadata": {},
   "outputs": [],
   "source": []
  }
 ],
 "metadata": {
  "kernelspec": {
   "display_name": "Python 3 (ipykernel)",
   "language": "python",
   "name": "python3"
  },
  "language_info": {
   "codemirror_mode": {
    "name": "ipython",
    "version": 3
   },
   "file_extension": ".py",
   "mimetype": "text/x-python",
   "name": "python",
   "nbconvert_exporter": "python",
   "pygments_lexer": "ipython3",
   "version": "3.9.7"
  }
 },
 "nbformat": 4,
 "nbformat_minor": 5
}
